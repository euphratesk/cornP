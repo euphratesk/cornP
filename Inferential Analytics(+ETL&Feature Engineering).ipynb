{
 "cells": [
  {
   "cell_type": "code",
   "execution_count": 30,
   "id": "3bedaf54-55f9-471d-865f-c02e0952c6be",
   "metadata": {},
   "outputs": [],
   "source": [
    "import pandas as pd\n",
    "import numpy as np\n",
    "import sqlite3\n",
    "import matplotlib.pyplot as plt\n",
    "import seaborn as sns\n",
    "from datetime import datetime\n",
    "\n"
   ]
  },
  {
   "cell_type": "code",
   "execution_count": 31,
   "id": "8a3e1b95-31f7-442b-bb67-720439e2a3ce",
   "metadata": {},
   "outputs": [],
   "source": [
    "conn = sqlite3.connect('papcorns.sqlite')"
   ]
  },
  {
   "cell_type": "code",
   "execution_count": null,
   "id": "a1f85942-1b41-4311-8af6-85a61546f6e0",
   "metadata": {},
   "outputs": [],
   "source": []
  },
  {
   "cell_type": "code",
   "execution_count": null,
   "id": "fbb70dea-e790-4b2b-86a0-940e2b3d7f30",
   "metadata": {},
   "outputs": [],
   "source": []
  },
  {
   "cell_type": "code",
   "execution_count": null,
   "id": "4fc1d0b4-53b2-42d9-8d4c-9b0e58f280b4",
   "metadata": {},
   "outputs": [],
   "source": []
  },
  {
   "cell_type": "code",
   "execution_count": 32,
   "id": "e2620eb4-f4c4-4763-a5ce-3f589e3be488",
   "metadata": {},
   "outputs": [],
   "source": [
    "#Import Users Table into dataframe\n",
    "\n",
    "users_df = pd.read_sql_query(\"SELECT*FROM users;\",conn)"
   ]
  },
  {
   "cell_type": "code",
   "execution_count": null,
   "id": "786d452f-ba15-40d4-ae56-ecfdae4d4039",
   "metadata": {},
   "outputs": [],
   "source": []
  },
  {
   "cell_type": "code",
   "execution_count": 33,
   "id": "6935001d-7047-4a2f-b87d-79c49083df0b",
   "metadata": {},
   "outputs": [],
   "source": [
    "#Import Users Event Table into dataframe\n",
    "\n",
    "events_df = pd.read_sql_query(\"SELECT*FROM user_events;\",conn)"
   ]
  },
  {
   "cell_type": "code",
   "execution_count": null,
   "id": "d763ce79-e739-4b89-abbf-4f9912baab39",
   "metadata": {},
   "outputs": [],
   "source": []
  },
  {
   "cell_type": "code",
   "execution_count": 34,
   "id": "358de6cc-5133-4cd4-827c-0bac72776714",
   "metadata": {},
   "outputs": [
    {
     "data": {
      "text/plain": [
       "(1002, 5)"
      ]
     },
     "execution_count": 34,
     "metadata": {},
     "output_type": "execute_result"
    }
   ],
   "source": [
    "#Check columns and records's amount of Users df\n",
    "\n",
    "users_df.shape"
   ]
  },
  {
   "cell_type": "code",
   "execution_count": 35,
   "id": "d90d1443-1f92-4f01-996a-26d8c834ea54",
   "metadata": {},
   "outputs": [
    {
     "data": {
      "text/plain": [
       "(3486, 5)"
      ]
     },
     "execution_count": 35,
     "metadata": {},
     "output_type": "execute_result"
    }
   ],
   "source": [
    "#Check columns and records's amount of Users Event df\n",
    "\n",
    "events_df.shape"
   ]
  },
  {
   "cell_type": "code",
   "execution_count": null,
   "id": "eca727e4-9d64-49fa-b7b9-5d6c96828d9e",
   "metadata": {},
   "outputs": [],
   "source": []
  },
  {
   "cell_type": "code",
   "execution_count": 36,
   "id": "4089dad1-4323-4496-8b55-0200c4f8d393",
   "metadata": {},
   "outputs": [],
   "source": [
    "#lets remove id in events_df. user_id is reference od id in users_df\n",
    "\n",
    "\n",
    "events_df = events_df.drop(columns='id',axis = 1)"
   ]
  },
  {
   "cell_type": "code",
   "execution_count": null,
   "id": "3de3d9de-ca5e-4241-8715-a633d072c364",
   "metadata": {},
   "outputs": [],
   "source": []
  },
  {
   "cell_type": "code",
   "execution_count": null,
   "id": "74a264c1-acaf-4975-b837-bab1008164a3",
   "metadata": {},
   "outputs": [],
   "source": []
  },
  {
   "cell_type": "code",
   "execution_count": null,
   "id": "2462027d-d161-4729-bee6-df0fdb99bac1",
   "metadata": {},
   "outputs": [],
   "source": []
  },
  {
   "cell_type": "code",
   "execution_count": 37,
   "id": "44e50d66-4e08-4b41-9150-ba68f6e99301",
   "metadata": {},
   "outputs": [],
   "source": [
    "#There is a problem with created column cronologically. There are some date at the future so those values should be removed from dataset\n",
    "\n",
    "events_df['created_at'] = pd.to_datetime(events_df['created_at'])\n"
   ]
  },
  {
   "cell_type": "code",
   "execution_count": 38,
   "id": "2861be7c-0bf9-4a01-88ea-7bc287e1a3b6",
   "metadata": {},
   "outputs": [],
   "source": [
    "row1 = events_df.shape[0]"
   ]
  },
  {
   "cell_type": "code",
   "execution_count": 39,
   "id": "8678de65-2ea9-49cc-a695-a1155e6912c1",
   "metadata": {},
   "outputs": [],
   "source": [
    "events_df.drop(events_df[events_df['created_at']>pd.Timestamp.now()].index,axis = 0,inplace=True)"
   ]
  },
  {
   "cell_type": "code",
   "execution_count": 40,
   "id": "dee8e1b7-d1c9-43f1-9fcf-7b110c97671c",
   "metadata": {},
   "outputs": [],
   "source": [
    "row2 = events_df.shape[0]"
   ]
  },
  {
   "cell_type": "code",
   "execution_count": 41,
   "id": "889aae15-8c39-414a-9b7a-5753aa77d16e",
   "metadata": {},
   "outputs": [
    {
     "name": "stdout",
     "output_type": "stream",
     "text": [
      "163  rows are dropped from events_df\n"
     ]
    }
   ],
   "source": [
    "print(row1-row2,' rows are dropped from events_df')"
   ]
  },
  {
   "cell_type": "code",
   "execution_count": null,
   "id": "bc357079-ae73-49e0-816f-c038095fd96a",
   "metadata": {},
   "outputs": [],
   "source": []
  },
  {
   "cell_type": "code",
   "execution_count": null,
   "id": "fb1897e8-de0b-4296-8264-6d870c2538e7",
   "metadata": {},
   "outputs": [],
   "source": []
  },
  {
   "cell_type": "code",
   "execution_count": null,
   "id": "ec4949f1-d3f8-473c-937d-cc64af5779bf",
   "metadata": {},
   "outputs": [],
   "source": []
  },
  {
   "cell_type": "code",
   "execution_count": 42,
   "id": "a628ffe8-5d61-4044-9ae7-fc64c8b127b9",
   "metadata": {},
   "outputs": [],
   "source": [
    "#Modify subscription_renewed depending on counts of done based on user_id\n",
    "#There are multiple time for renewd that s aproblem convert our dataframe into pivot table\n",
    "#Thats why we redesign oour subscription_renewed rows based on user_id\n",
    "\n",
    "events_df['event_name'] = events_df['event_name'].astype('category')\n",
    "\n",
    "\n",
    "renewed_counts = events_df[events_df['event_name'] == 'subscription_renewed'].groupby('user_id').size().reset_index(name='subscription_renewed')\n"
   ]
  },
  {
   "cell_type": "code",
   "execution_count": null,
   "id": "6dfd1b71-4169-4920-97c2-8ab6fc049009",
   "metadata": {},
   "outputs": [],
   "source": []
  },
  {
   "cell_type": "code",
   "execution_count": null,
   "id": "df366a76-8748-4bbe-9b4f-ca1c5fc9e1b3",
   "metadata": {},
   "outputs": [],
   "source": []
  },
  {
   "cell_type": "code",
   "execution_count": null,
   "id": "e113c205-6686-4640-bb8b-ecb5cdc59a50",
   "metadata": {},
   "outputs": [],
   "source": []
  },
  {
   "cell_type": "code",
   "execution_count": 43,
   "id": "f95d7d05-ef69-403d-b1ff-79d15d6b3a9b",
   "metadata": {},
   "outputs": [],
   "source": [
    "#Create new dataframe with count of subscription_renewed  \n",
    "\n",
    "x_df = events_df[['user_id']].drop_duplicates()  \n",
    "df_subscription_renewed = x_df.merge(renewed_counts, on='user_id', how='left').fillna(0).astype('int')"
   ]
  },
  {
   "cell_type": "code",
   "execution_count": 44,
   "id": "e39768ef-72ae-47c9-a18e-ccfd2ec50c8d",
   "metadata": {},
   "outputs": [
    {
     "data": {
      "text/html": [
       "<div>\n",
       "<style scoped>\n",
       "    .dataframe tbody tr th:only-of-type {\n",
       "        vertical-align: middle;\n",
       "    }\n",
       "\n",
       "    .dataframe tbody tr th {\n",
       "        vertical-align: top;\n",
       "    }\n",
       "\n",
       "    .dataframe thead th {\n",
       "        text-align: right;\n",
       "    }\n",
       "</style>\n",
       "<table border=\"1\" class=\"dataframe\">\n",
       "  <thead>\n",
       "    <tr style=\"text-align: right;\">\n",
       "      <th></th>\n",
       "      <th>user_id</th>\n",
       "      <th>subscription_renewed</th>\n",
       "    </tr>\n",
       "  </thead>\n",
       "  <tbody>\n",
       "    <tr>\n",
       "      <th>0</th>\n",
       "      <td>1</td>\n",
       "      <td>0</td>\n",
       "    </tr>\n",
       "    <tr>\n",
       "      <th>1</th>\n",
       "      <td>2</td>\n",
       "      <td>3</td>\n",
       "    </tr>\n",
       "    <tr>\n",
       "      <th>2</th>\n",
       "      <td>3</td>\n",
       "      <td>3</td>\n",
       "    </tr>\n",
       "    <tr>\n",
       "      <th>3</th>\n",
       "      <td>4</td>\n",
       "      <td>0</td>\n",
       "    </tr>\n",
       "    <tr>\n",
       "      <th>4</th>\n",
       "      <td>5</td>\n",
       "      <td>0</td>\n",
       "    </tr>\n",
       "    <tr>\n",
       "      <th>...</th>\n",
       "      <td>...</td>\n",
       "      <td>...</td>\n",
       "    </tr>\n",
       "    <tr>\n",
       "      <th>997</th>\n",
       "      <td>998</td>\n",
       "      <td>0</td>\n",
       "    </tr>\n",
       "    <tr>\n",
       "      <th>998</th>\n",
       "      <td>999</td>\n",
       "      <td>1</td>\n",
       "    </tr>\n",
       "    <tr>\n",
       "      <th>999</th>\n",
       "      <td>1000</td>\n",
       "      <td>0</td>\n",
       "    </tr>\n",
       "    <tr>\n",
       "      <th>1000</th>\n",
       "      <td>1001</td>\n",
       "      <td>0</td>\n",
       "    </tr>\n",
       "    <tr>\n",
       "      <th>1001</th>\n",
       "      <td>1002</td>\n",
       "      <td>0</td>\n",
       "    </tr>\n",
       "  </tbody>\n",
       "</table>\n",
       "<p>1002 rows × 2 columns</p>\n",
       "</div>"
      ],
      "text/plain": [
       "      user_id  subscription_renewed\n",
       "0           1                     0\n",
       "1           2                     3\n",
       "2           3                     3\n",
       "3           4                     0\n",
       "4           5                     0\n",
       "...       ...                   ...\n",
       "997       998                     0\n",
       "998       999                     1\n",
       "999      1000                     0\n",
       "1000     1001                     0\n",
       "1001     1002                     0\n",
       "\n",
       "[1002 rows x 2 columns]"
      ]
     },
     "execution_count": 44,
     "metadata": {},
     "output_type": "execute_result"
    }
   ],
   "source": [
    "df_subscription_renewed"
   ]
  },
  {
   "cell_type": "code",
   "execution_count": null,
   "id": "aa8bfae5-13df-4131-9476-47d64cec7c99",
   "metadata": {},
   "outputs": [],
   "source": []
  },
  {
   "cell_type": "code",
   "execution_count": 45,
   "id": "d3805193-0c37-44c3-ac2b-556c9199f309",
   "metadata": {},
   "outputs": [],
   "source": [
    "filtered_df = events_df[events_df['event_name']!='subscription_renewed']"
   ]
  },
  {
   "cell_type": "code",
   "execution_count": 46,
   "id": "63aaec99-f191-49c2-bfea-938e99c32a5c",
   "metadata": {},
   "outputs": [
    {
     "data": {
      "text/plain": [
       "app_install               1002\n",
       "trial_started              682\n",
       "subscription_started       480\n",
       "subscription_cancelled     309\n",
       "trial_cancelled            201\n",
       "subscription_renewed         0\n",
       "Name: event_name, dtype: int64"
      ]
     },
     "execution_count": 46,
     "metadata": {},
     "output_type": "execute_result"
    }
   ],
   "source": [
    "#removed rows including 'subscription_renewed'\n",
    "\n",
    "\n",
    "filtered_df['event_name'].value_counts()"
   ]
  },
  {
   "cell_type": "code",
   "execution_count": 47,
   "id": "15f85b1d-2231-45a2-8c2b-6f82e4d22df7",
   "metadata": {},
   "outputs": [],
   "source": [
    "#Convert dataframe pivot table indexed by user_id, \n",
    "#create columns with event name without subscription renewed\n",
    "\n",
    "df_pivot_no_renewed = filtered_df.pivot_table(index='user_id',\n",
    "                                              columns='event_name', values='created_at')"
   ]
  },
  {
   "cell_type": "code",
   "execution_count": 48,
   "id": "e6c099c4-87b6-4261-b096-4af00a9e274c",
   "metadata": {},
   "outputs": [],
   "source": [
    "df_pivot_no_renewed = df_pivot_no_renewed.reset_index()"
   ]
  },
  {
   "cell_type": "code",
   "execution_count": 49,
   "id": "f58c87fe",
   "metadata": {},
   "outputs": [
    {
     "data": {
      "text/html": [
       "<div>\n",
       "<style scoped>\n",
       "    .dataframe tbody tr th:only-of-type {\n",
       "        vertical-align: middle;\n",
       "    }\n",
       "\n",
       "    .dataframe tbody tr th {\n",
       "        vertical-align: top;\n",
       "    }\n",
       "\n",
       "    .dataframe thead th {\n",
       "        text-align: right;\n",
       "    }\n",
       "</style>\n",
       "<table border=\"1\" class=\"dataframe\">\n",
       "  <thead>\n",
       "    <tr style=\"text-align: right;\">\n",
       "      <th>event_name</th>\n",
       "      <th>user_id</th>\n",
       "      <th>app_install</th>\n",
       "      <th>subscription_cancelled</th>\n",
       "      <th>subscription_started</th>\n",
       "      <th>trial_cancelled</th>\n",
       "      <th>trial_started</th>\n",
       "    </tr>\n",
       "  </thead>\n",
       "  <tbody>\n",
       "    <tr>\n",
       "      <th>0</th>\n",
       "      <td>1</td>\n",
       "      <td>2024-05-07</td>\n",
       "      <td>NaT</td>\n",
       "      <td>NaT</td>\n",
       "      <td>2024-05-24</td>\n",
       "      <td>2024-05-12</td>\n",
       "    </tr>\n",
       "    <tr>\n",
       "      <th>1</th>\n",
       "      <td>2</td>\n",
       "      <td>2024-10-12</td>\n",
       "      <td>2025-02-12</td>\n",
       "      <td>2024-10-20</td>\n",
       "      <td>NaT</td>\n",
       "      <td>2024-10-13</td>\n",
       "    </tr>\n",
       "    <tr>\n",
       "      <th>2</th>\n",
       "      <td>3</td>\n",
       "      <td>2024-10-15</td>\n",
       "      <td>2025-01-20</td>\n",
       "      <td>2024-10-21</td>\n",
       "      <td>NaT</td>\n",
       "      <td>2024-10-19</td>\n",
       "    </tr>\n",
       "    <tr>\n",
       "      <th>3</th>\n",
       "      <td>4</td>\n",
       "      <td>2024-08-28</td>\n",
       "      <td>NaT</td>\n",
       "      <td>NaT</td>\n",
       "      <td>2024-09-06</td>\n",
       "      <td>2024-08-31</td>\n",
       "    </tr>\n",
       "    <tr>\n",
       "      <th>4</th>\n",
       "      <td>5</td>\n",
       "      <td>2024-04-03</td>\n",
       "      <td>NaT</td>\n",
       "      <td>NaT</td>\n",
       "      <td>NaT</td>\n",
       "      <td>NaT</td>\n",
       "    </tr>\n",
       "    <tr>\n",
       "      <th>...</th>\n",
       "      <td>...</td>\n",
       "      <td>...</td>\n",
       "      <td>...</td>\n",
       "      <td>...</td>\n",
       "      <td>...</td>\n",
       "      <td>...</td>\n",
       "    </tr>\n",
       "    <tr>\n",
       "      <th>997</th>\n",
       "      <td>998</td>\n",
       "      <td>2025-02-01</td>\n",
       "      <td>NaT</td>\n",
       "      <td>NaT</td>\n",
       "      <td>NaT</td>\n",
       "      <td>NaT</td>\n",
       "    </tr>\n",
       "    <tr>\n",
       "      <th>998</th>\n",
       "      <td>999</td>\n",
       "      <td>2024-12-24</td>\n",
       "      <td>NaT</td>\n",
       "      <td>2025-01-03</td>\n",
       "      <td>NaT</td>\n",
       "      <td>2024-12-29</td>\n",
       "    </tr>\n",
       "    <tr>\n",
       "      <th>999</th>\n",
       "      <td>1000</td>\n",
       "      <td>2025-02-13</td>\n",
       "      <td>NaT</td>\n",
       "      <td>NaT</td>\n",
       "      <td>2025-02-25</td>\n",
       "      <td>2025-02-15</td>\n",
       "    </tr>\n",
       "    <tr>\n",
       "      <th>1000</th>\n",
       "      <td>1001</td>\n",
       "      <td>2025-02-25</td>\n",
       "      <td>NaT</td>\n",
       "      <td>2025-02-25</td>\n",
       "      <td>NaT</td>\n",
       "      <td>2025-02-25</td>\n",
       "    </tr>\n",
       "    <tr>\n",
       "      <th>1001</th>\n",
       "      <td>1002</td>\n",
       "      <td>2025-02-25</td>\n",
       "      <td>NaT</td>\n",
       "      <td>NaT</td>\n",
       "      <td>NaT</td>\n",
       "      <td>NaT</td>\n",
       "    </tr>\n",
       "  </tbody>\n",
       "</table>\n",
       "<p>1002 rows × 6 columns</p>\n",
       "</div>"
      ],
      "text/plain": [
       "event_name  user_id app_install subscription_cancelled subscription_started  \\\n",
       "0                 1  2024-05-07                    NaT                  NaT   \n",
       "1                 2  2024-10-12             2025-02-12           2024-10-20   \n",
       "2                 3  2024-10-15             2025-01-20           2024-10-21   \n",
       "3                 4  2024-08-28                    NaT                  NaT   \n",
       "4                 5  2024-04-03                    NaT                  NaT   \n",
       "...             ...         ...                    ...                  ...   \n",
       "997             998  2025-02-01                    NaT                  NaT   \n",
       "998             999  2024-12-24                    NaT           2025-01-03   \n",
       "999            1000  2025-02-13                    NaT                  NaT   \n",
       "1000           1001  2025-02-25                    NaT           2025-02-25   \n",
       "1001           1002  2025-02-25                    NaT                  NaT   \n",
       "\n",
       "event_name trial_cancelled trial_started  \n",
       "0               2024-05-24    2024-05-12  \n",
       "1                      NaT    2024-10-13  \n",
       "2                      NaT    2024-10-19  \n",
       "3               2024-09-06    2024-08-31  \n",
       "4                      NaT           NaT  \n",
       "...                    ...           ...  \n",
       "997                    NaT           NaT  \n",
       "998                    NaT    2024-12-29  \n",
       "999             2025-02-25    2025-02-15  \n",
       "1000                   NaT    2025-02-25  \n",
       "1001                   NaT           NaT  \n",
       "\n",
       "[1002 rows x 6 columns]"
      ]
     },
     "execution_count": 49,
     "metadata": {},
     "output_type": "execute_result"
    }
   ],
   "source": [
    "#Dataframe without subscription_renewed\n",
    "\n",
    "df_pivot_no_renewed"
   ]
  },
  {
   "cell_type": "code",
   "execution_count": null,
   "id": "de2cc4cb",
   "metadata": {},
   "outputs": [],
   "source": []
  },
  {
   "cell_type": "code",
   "execution_count": 50,
   "id": "3a010729-5dd0-4c00-b86f-92d3f635f0b9",
   "metadata": {},
   "outputs": [],
   "source": [
    "#Finally merge pivot table with  subscription_renewed counts \n",
    "\n",
    "df_final = df_pivot_no_renewed.merge(df_subscription_renewed, on='user_id', how='inner')"
   ]
  },
  {
   "cell_type": "code",
   "execution_count": 51,
   "id": "d3574eba-2b82-4bc6-84ad-107a6c4bc6c1",
   "metadata": {},
   "outputs": [
    {
     "data": {
      "text/html": [
       "<div>\n",
       "<style scoped>\n",
       "    .dataframe tbody tr th:only-of-type {\n",
       "        vertical-align: middle;\n",
       "    }\n",
       "\n",
       "    .dataframe tbody tr th {\n",
       "        vertical-align: top;\n",
       "    }\n",
       "\n",
       "    .dataframe thead th {\n",
       "        text-align: right;\n",
       "    }\n",
       "</style>\n",
       "<table border=\"1\" class=\"dataframe\">\n",
       "  <thead>\n",
       "    <tr style=\"text-align: right;\">\n",
       "      <th></th>\n",
       "      <th>user_id</th>\n",
       "      <th>app_install</th>\n",
       "      <th>subscription_cancelled</th>\n",
       "      <th>subscription_started</th>\n",
       "      <th>trial_cancelled</th>\n",
       "      <th>trial_started</th>\n",
       "      <th>subscription_renewed</th>\n",
       "    </tr>\n",
       "  </thead>\n",
       "  <tbody>\n",
       "    <tr>\n",
       "      <th>0</th>\n",
       "      <td>1</td>\n",
       "      <td>2024-05-07</td>\n",
       "      <td>NaT</td>\n",
       "      <td>NaT</td>\n",
       "      <td>2024-05-24</td>\n",
       "      <td>2024-05-12</td>\n",
       "      <td>0</td>\n",
       "    </tr>\n",
       "    <tr>\n",
       "      <th>1</th>\n",
       "      <td>2</td>\n",
       "      <td>2024-10-12</td>\n",
       "      <td>2025-02-12</td>\n",
       "      <td>2024-10-20</td>\n",
       "      <td>NaT</td>\n",
       "      <td>2024-10-13</td>\n",
       "      <td>3</td>\n",
       "    </tr>\n",
       "    <tr>\n",
       "      <th>2</th>\n",
       "      <td>3</td>\n",
       "      <td>2024-10-15</td>\n",
       "      <td>2025-01-20</td>\n",
       "      <td>2024-10-21</td>\n",
       "      <td>NaT</td>\n",
       "      <td>2024-10-19</td>\n",
       "      <td>3</td>\n",
       "    </tr>\n",
       "    <tr>\n",
       "      <th>3</th>\n",
       "      <td>4</td>\n",
       "      <td>2024-08-28</td>\n",
       "      <td>NaT</td>\n",
       "      <td>NaT</td>\n",
       "      <td>2024-09-06</td>\n",
       "      <td>2024-08-31</td>\n",
       "      <td>0</td>\n",
       "    </tr>\n",
       "    <tr>\n",
       "      <th>4</th>\n",
       "      <td>5</td>\n",
       "      <td>2024-04-03</td>\n",
       "      <td>NaT</td>\n",
       "      <td>NaT</td>\n",
       "      <td>NaT</td>\n",
       "      <td>NaT</td>\n",
       "      <td>0</td>\n",
       "    </tr>\n",
       "    <tr>\n",
       "      <th>...</th>\n",
       "      <td>...</td>\n",
       "      <td>...</td>\n",
       "      <td>...</td>\n",
       "      <td>...</td>\n",
       "      <td>...</td>\n",
       "      <td>...</td>\n",
       "      <td>...</td>\n",
       "    </tr>\n",
       "    <tr>\n",
       "      <th>997</th>\n",
       "      <td>998</td>\n",
       "      <td>2025-02-01</td>\n",
       "      <td>NaT</td>\n",
       "      <td>NaT</td>\n",
       "      <td>NaT</td>\n",
       "      <td>NaT</td>\n",
       "      <td>0</td>\n",
       "    </tr>\n",
       "    <tr>\n",
       "      <th>998</th>\n",
       "      <td>999</td>\n",
       "      <td>2024-12-24</td>\n",
       "      <td>NaT</td>\n",
       "      <td>2025-01-03</td>\n",
       "      <td>NaT</td>\n",
       "      <td>2024-12-29</td>\n",
       "      <td>1</td>\n",
       "    </tr>\n",
       "    <tr>\n",
       "      <th>999</th>\n",
       "      <td>1000</td>\n",
       "      <td>2025-02-13</td>\n",
       "      <td>NaT</td>\n",
       "      <td>NaT</td>\n",
       "      <td>2025-02-25</td>\n",
       "      <td>2025-02-15</td>\n",
       "      <td>0</td>\n",
       "    </tr>\n",
       "    <tr>\n",
       "      <th>1000</th>\n",
       "      <td>1001</td>\n",
       "      <td>2025-02-25</td>\n",
       "      <td>NaT</td>\n",
       "      <td>2025-02-25</td>\n",
       "      <td>NaT</td>\n",
       "      <td>2025-02-25</td>\n",
       "      <td>0</td>\n",
       "    </tr>\n",
       "    <tr>\n",
       "      <th>1001</th>\n",
       "      <td>1002</td>\n",
       "      <td>2025-02-25</td>\n",
       "      <td>NaT</td>\n",
       "      <td>NaT</td>\n",
       "      <td>NaT</td>\n",
       "      <td>NaT</td>\n",
       "      <td>0</td>\n",
       "    </tr>\n",
       "  </tbody>\n",
       "</table>\n",
       "<p>1002 rows × 7 columns</p>\n",
       "</div>"
      ],
      "text/plain": [
       "      user_id app_install subscription_cancelled subscription_started  \\\n",
       "0           1  2024-05-07                    NaT                  NaT   \n",
       "1           2  2024-10-12             2025-02-12           2024-10-20   \n",
       "2           3  2024-10-15             2025-01-20           2024-10-21   \n",
       "3           4  2024-08-28                    NaT                  NaT   \n",
       "4           5  2024-04-03                    NaT                  NaT   \n",
       "...       ...         ...                    ...                  ...   \n",
       "997       998  2025-02-01                    NaT                  NaT   \n",
       "998       999  2024-12-24                    NaT           2025-01-03   \n",
       "999      1000  2025-02-13                    NaT                  NaT   \n",
       "1000     1001  2025-02-25                    NaT           2025-02-25   \n",
       "1001     1002  2025-02-25                    NaT                  NaT   \n",
       "\n",
       "     trial_cancelled trial_started  subscription_renewed  \n",
       "0         2024-05-24    2024-05-12                     0  \n",
       "1                NaT    2024-10-13                     3  \n",
       "2                NaT    2024-10-19                     3  \n",
       "3         2024-09-06    2024-08-31                     0  \n",
       "4                NaT           NaT                     0  \n",
       "...              ...           ...                   ...  \n",
       "997              NaT           NaT                     0  \n",
       "998              NaT    2024-12-29                     1  \n",
       "999       2025-02-25    2025-02-15                     0  \n",
       "1000             NaT    2025-02-25                     0  \n",
       "1001             NaT           NaT                     0  \n",
       "\n",
       "[1002 rows x 7 columns]"
      ]
     },
     "execution_count": 51,
     "metadata": {},
     "output_type": "execute_result"
    }
   ],
   "source": [
    "df_final"
   ]
  },
  {
   "cell_type": "code",
   "execution_count": null,
   "id": "72d7fb90",
   "metadata": {},
   "outputs": [],
   "source": []
  },
  {
   "cell_type": "code",
   "execution_count": 52,
   "id": "7b060d30",
   "metadata": {},
   "outputs": [],
   "source": [
    "#Widen dataframe with column of 'users table' by merging based on user_id\n",
    "#.drop(columns = ['key_0']) disallow create duplicated columns during merging\n",
    "\n",
    "df_final =  pd.merge(df_final,users_df[['attribution_source','country','name']]\\\n",
    "                     , left_on=df_final['user_id'],right_on =users_df['id'], how='inner').drop(columns = ['key_0'])"
   ]
  },
  {
   "cell_type": "code",
   "execution_count": 53,
   "id": "f68105b6",
   "metadata": {},
   "outputs": [],
   "source": [
    "#There mighte be multiple income with a number of events \n",
    "#so assign amount_usd total grouping by user_id\n",
    "\n",
    "df_final['amount_usd'] = df_final['user_id'].map(events_df.groupby('user_id')['amount_usd'].sum())"
   ]
  },
  {
   "cell_type": "code",
   "execution_count": 54,
   "id": "fb05bd2d",
   "metadata": {},
   "outputs": [
    {
     "data": {
      "text/html": [
       "<div>\n",
       "<style scoped>\n",
       "    .dataframe tbody tr th:only-of-type {\n",
       "        vertical-align: middle;\n",
       "    }\n",
       "\n",
       "    .dataframe tbody tr th {\n",
       "        vertical-align: top;\n",
       "    }\n",
       "\n",
       "    .dataframe thead th {\n",
       "        text-align: right;\n",
       "    }\n",
       "</style>\n",
       "<table border=\"1\" class=\"dataframe\">\n",
       "  <thead>\n",
       "    <tr style=\"text-align: right;\">\n",
       "      <th></th>\n",
       "      <th>user_id</th>\n",
       "      <th>app_install</th>\n",
       "      <th>subscription_cancelled</th>\n",
       "      <th>subscription_started</th>\n",
       "      <th>trial_cancelled</th>\n",
       "      <th>trial_started</th>\n",
       "      <th>subscription_renewed</th>\n",
       "      <th>attribution_source</th>\n",
       "      <th>country</th>\n",
       "      <th>name</th>\n",
       "      <th>amount_usd</th>\n",
       "    </tr>\n",
       "  </thead>\n",
       "  <tbody>\n",
       "    <tr>\n",
       "      <th>0</th>\n",
       "      <td>1</td>\n",
       "      <td>2024-05-07</td>\n",
       "      <td>NaT</td>\n",
       "      <td>NaT</td>\n",
       "      <td>2024-05-24</td>\n",
       "      <td>2024-05-12</td>\n",
       "      <td>0</td>\n",
       "      <td>instagram</td>\n",
       "      <td>US</td>\n",
       "      <td>Eve Brown</td>\n",
       "      <td>0.00</td>\n",
       "    </tr>\n",
       "    <tr>\n",
       "      <th>1</th>\n",
       "      <td>2</td>\n",
       "      <td>2024-10-12</td>\n",
       "      <td>2025-02-12</td>\n",
       "      <td>2024-10-20</td>\n",
       "      <td>NaT</td>\n",
       "      <td>2024-10-13</td>\n",
       "      <td>3</td>\n",
       "      <td>instagram</td>\n",
       "      <td>NL</td>\n",
       "      <td>Frank Moore</td>\n",
       "      <td>35.96</td>\n",
       "    </tr>\n",
       "    <tr>\n",
       "      <th>2</th>\n",
       "      <td>3</td>\n",
       "      <td>2024-10-15</td>\n",
       "      <td>2025-01-20</td>\n",
       "      <td>2024-10-21</td>\n",
       "      <td>NaT</td>\n",
       "      <td>2024-10-19</td>\n",
       "      <td>3</td>\n",
       "      <td>tiktok</td>\n",
       "      <td>TR</td>\n",
       "      <td>Ivy Anderson</td>\n",
       "      <td>19.96</td>\n",
       "    </tr>\n",
       "    <tr>\n",
       "      <th>3</th>\n",
       "      <td>4</td>\n",
       "      <td>2024-08-28</td>\n",
       "      <td>NaT</td>\n",
       "      <td>NaT</td>\n",
       "      <td>2024-09-06</td>\n",
       "      <td>2024-08-31</td>\n",
       "      <td>0</td>\n",
       "      <td>tiktok</td>\n",
       "      <td>TR</td>\n",
       "      <td>Alice Brown</td>\n",
       "      <td>0.00</td>\n",
       "    </tr>\n",
       "    <tr>\n",
       "      <th>4</th>\n",
       "      <td>5</td>\n",
       "      <td>2024-04-03</td>\n",
       "      <td>NaT</td>\n",
       "      <td>NaT</td>\n",
       "      <td>NaT</td>\n",
       "      <td>NaT</td>\n",
       "      <td>0</td>\n",
       "      <td>organic</td>\n",
       "      <td>NL</td>\n",
       "      <td>Bob Moore</td>\n",
       "      <td>0.00</td>\n",
       "    </tr>\n",
       "  </tbody>\n",
       "</table>\n",
       "</div>"
      ],
      "text/plain": [
       "   user_id app_install subscription_cancelled subscription_started  \\\n",
       "0        1  2024-05-07                    NaT                  NaT   \n",
       "1        2  2024-10-12             2025-02-12           2024-10-20   \n",
       "2        3  2024-10-15             2025-01-20           2024-10-21   \n",
       "3        4  2024-08-28                    NaT                  NaT   \n",
       "4        5  2024-04-03                    NaT                  NaT   \n",
       "\n",
       "  trial_cancelled trial_started  subscription_renewed attribution_source  \\\n",
       "0      2024-05-24    2024-05-12                     0          instagram   \n",
       "1             NaT    2024-10-13                     3          instagram   \n",
       "2             NaT    2024-10-19                     3             tiktok   \n",
       "3      2024-09-06    2024-08-31                     0             tiktok   \n",
       "4             NaT           NaT                     0            organic   \n",
       "\n",
       "  country          name  amount_usd  \n",
       "0      US     Eve Brown        0.00  \n",
       "1      NL   Frank Moore       35.96  \n",
       "2      TR  Ivy Anderson       19.96  \n",
       "3      TR   Alice Brown        0.00  \n",
       "4      NL     Bob Moore        0.00  "
      ]
     },
     "execution_count": 54,
     "metadata": {},
     "output_type": "execute_result"
    }
   ],
   "source": [
    "df_final.head()"
   ]
  },
  {
   "cell_type": "code",
   "execution_count": null,
   "id": "25713224",
   "metadata": {},
   "outputs": [],
   "source": []
  },
  {
   "cell_type": "code",
   "execution_count": null,
   "id": "2578041d",
   "metadata": {},
   "outputs": [],
   "source": []
  },
  {
   "cell_type": "code",
   "execution_count": null,
   "id": "62631abd",
   "metadata": {},
   "outputs": [],
   "source": []
  },
  {
   "cell_type": "markdown",
   "id": "c18091ff",
   "metadata": {},
   "source": [
    "## APP_INSTALL DURATION"
   ]
  },
  {
   "cell_type": "code",
   "execution_count": 55,
   "id": "8c113bfa",
   "metadata": {},
   "outputs": [
    {
     "data": {
      "text/plain": [
       "0.0      1\n",
       "1.0    113\n",
       "2.0    121\n",
       "3.0    113\n",
       "4.0    118\n",
       "5.0    105\n",
       "6.0    111\n",
       "NaN    320\n",
       "dtype: int64"
      ]
     },
     "execution_count": 55,
     "metadata": {},
     "output_type": "execute_result"
    }
   ],
   "source": [
    "(df_final['trial_started']-df_final['app_install'])\\\n",
    "    .dt.days.value_counts(dropna =False)\\\n",
    "    .sort_index()"
   ]
  },
  {
   "cell_type": "code",
   "execution_count": 56,
   "id": "7bde7b53",
   "metadata": {},
   "outputs": [
    {
     "data": {
      "image/png": "[encoded data removed]",
      "text/plain": [
       "<Figure size 640x480 with 1 Axes>"
      ]
     },
     "metadata": {},
     "output_type": "display_data"
    }
   ],
   "source": [
    "#Distribution of app_install-TO-trial\n",
    "#Trials have been started in early 6 days otherwise Never\n",
    "\n",
    "ax = (df_final['trial_started']-df_final['app_install'])\\\n",
    "    .dt.days.value_counts(dropna =False)\\\n",
    "    .sort_index().plot(kind='bar')\n",
    "\n",
    "ax.bar_label(ax.containers[0])\n",
    "plt.title('Distribution Duration App Installation by Days')\n",
    "plt.show()"
   ]
  },
  {
   "cell_type": "code",
   "execution_count": 57,
   "id": "87e37cb8",
   "metadata": {},
   "outputs": [],
   "source": [
    "#Add a new colum of app_install duration\n",
    "#It seems it is disallowed to use trial after 6 days\n",
    "#Even though so. I use this method to overcome Null value problem\n",
    "#If I do no subtract app_install date from now then whole value return Nan\n",
    "#By this way i can use app_install duration for non-trial as well in my data set\n",
    "#and normalization and standardization also overcome for huges value of duration of app_install\n",
    "\n",
    "df_final['Duration_app_install'] = [(df_final.loc[i,'trial_started']-df_final.loc[i,'app_install']).days\\\n",
    "                                             if pd.notna(df_final.loc[i,'trial_started'])\\\n",
    "                                             else (pd.Timestamp.now()-df_final.loc[i,'app_install']).days\n",
    "                                             for i in df_final.index ]"
   ]
  },
  {
   "cell_type": "code",
   "execution_count": null,
   "id": "1c38d957",
   "metadata": {},
   "outputs": [],
   "source": []
  },
  {
   "cell_type": "code",
   "execution_count": null,
   "id": "9c1a74b4",
   "metadata": {},
   "outputs": [],
   "source": []
  },
  {
   "cell_type": "code",
   "execution_count": null,
   "id": "cde62a9e",
   "metadata": {},
   "outputs": [],
   "source": []
  },
  {
   "cell_type": "code",
   "execution_count": null,
   "id": "6246924a",
   "metadata": {},
   "outputs": [],
   "source": []
  },
  {
   "cell_type": "markdown",
   "id": "93657996",
   "metadata": {},
   "source": [
    "## TRIAL DURATION"
   ]
  },
  {
   "cell_type": "code",
   "execution_count": null,
   "id": "a0d48ecc",
   "metadata": {},
   "outputs": [],
   "source": []
  },
  {
   "cell_type": "code",
   "execution_count": 58,
   "id": "cd818916",
   "metadata": {},
   "outputs": [],
   "source": [
    "#Create new column Trial Duration\n",
    "#Trial duration is calculated depending on 3 situation\n",
    "\n",
    "#1- never trial return 0\n",
    "#2 ever trial but not subcripted trial_cancelled -trial_started\n",
    "#3 when go into subscrition started then subscription_start-trial_started\n",
    "\n",
    "\n",
    "df_final['Duration_trial'] = np.where(\n",
    "    df_final['trial_started'].isna(), \n",
    "    0,  # If no trial started, set duration to 0\n",
    "    np.where(\n",
    "        df_final['trial_cancelled'].notna(), \n",
    "        (df_final['trial_cancelled'] - df_final['trial_started']).dt.days, \n",
    "        np.where(\n",
    "            df_final['subscription_started'].notna(), \n",
    "            (df_final['subscription_started'] - df_final['trial_started']).dt.days, \n",
    "            0  # If trial started but no cancellation or subscription, default to 0\n",
    "        )\n",
    "    )\n",
    ").astype('int')"
   ]
  },
  {
   "cell_type": "code",
   "execution_count": 59,
   "id": "5c216f67",
   "metadata": {},
   "outputs": [
    {
     "data": {
      "text/plain": [
       "0     322\n",
       "1      52\n",
       "2      44\n",
       "3      52\n",
       "4      54\n",
       "5      64\n",
       "6      45\n",
       "7      68\n",
       "8      41\n",
       "9      56\n",
       "10     49\n",
       "11     58\n",
       "12     42\n",
       "13     55\n",
       "Name: Duration_trial, dtype: int64"
      ]
     },
     "execution_count": 59,
     "metadata": {},
     "output_type": "execute_result"
    }
   ],
   "source": [
    "#Here 0 store non-trial as well\n",
    "\n",
    "df_final['Duration_trial'].value_counts(dropna=False).sort_index()"
   ]
  },
  {
   "cell_type": "code",
   "execution_count": 60,
   "id": "d8efe642",
   "metadata": {},
   "outputs": [
    {
     "data": {
      "image/png": "[encoded data removed]",
      "text/plain": [
       "<Figure size 640x480 with 1 Axes>"
      ]
     },
     "metadata": {},
     "output_type": "display_data"
    }
   ],
   "source": [
    "#Trial Duration Distribution by Day\n",
    "#we filter only the trial user df_final[pd.notna(df_final['trial_started'])]['Duration_trial']\n",
    "\n",
    "#Note !...  :  Trial Duration have been taken in former 2 weeks atmost\n",
    "\n",
    "ax1 = df_final[pd.notna(df_final['trial_started'])]['Duration_trial'].value_counts(dropna=False)\\\n",
    ".sort_index().plot(kind = 'bar')\n",
    "ax1.bar_label(ax1.containers[0])\n",
    "plt.title('Trial Duration Distribution')\n",
    "plt.xlabel('Day')\n",
    "plt.ylabel('Count')\n",
    "plt.show()"
   ]
  },
  {
   "cell_type": "code",
   "execution_count": 61,
   "id": "6cac3e47",
   "metadata": {},
   "outputs": [
    {
     "name": "stdout",
     "output_type": "stream",
     "text": [
      "% 68.06 of Total start trial\n"
     ]
    }
   ],
   "source": [
    "#The rate start trial to app_install\n",
    "\n",
    "print('%',round((df_final['trial_started']-df_final['app_install'])\\\n",
    "    .dt.days.value_counts(dropna =True)\\\n",
    "    .sort_index().sum()/ (df_final['trial_started']-df_final['app_install'])\\\n",
    "    .dt.days.value_counts(dropna =False)\\\n",
    "    .sort_index().sum()*100,2),\"of Total start trial\")"
   ]
  },
  {
   "cell_type": "code",
   "execution_count": null,
   "id": "c9cd67e6",
   "metadata": {},
   "outputs": [],
   "source": []
  },
  {
   "cell_type": "markdown",
   "id": "97c5eaf9",
   "metadata": {},
   "source": [
    "## Subscription Duration"
   ]
  },
  {
   "cell_type": "code",
   "execution_count": 62,
   "id": "67f9e66e",
   "metadata": {},
   "outputs": [],
   "source": [
    "#Subscription duration is calculated here according to now for ongoing subscription\n",
    "#This is not make sense when store this data in permanent storage\n",
    "\n",
    "df_final['Duration_subscription'] = np.where(\n",
    "    df_final['subscription_started'].isna(), \n",
    "    0,\n",
    "    np.where(\n",
    "        df_final['subscription_cancelled'].notna(), \n",
    "        (df_final['subscription_cancelled'] - df_final['subscription_started']).dt.days, \n",
    "        (pd.Timestamp.now() - df_final['subscription_started']).dt.days\n",
    "    )\n",
    ").astype('int')   "
   ]
  },
  {
   "cell_type": "code",
   "execution_count": 63,
   "id": "5aff3b4b",
   "metadata": {},
   "outputs": [
    {
     "data": {
      "text/plain": [
       "0      522\n",
       "3        1\n",
       "5        1\n",
       "7        1\n",
       "8        1\n",
       "      ... \n",
       "402      2\n",
       "406      1\n",
       "408      1\n",
       "415      1\n",
       "416      1\n",
       "Name: Duration_subscription, Length: 185, dtype: int64"
      ]
     },
     "execution_count": 63,
     "metadata": {},
     "output_type": "execute_result"
    }
   ],
   "source": [
    "df_final['Duration_subscription'].value_counts().sort_index()"
   ]
  },
  {
   "cell_type": "code",
   "execution_count": null,
   "id": "70ce6923",
   "metadata": {},
   "outputs": [],
   "source": []
  },
  {
   "cell_type": "code",
   "execution_count": 64,
   "id": "f8cb7f6f",
   "metadata": {},
   "outputs": [
    {
     "name": "stdout",
     "output_type": "stream",
     "text": [
      "% 68.06 of app_installer start Trial\n"
     ]
    }
   ],
   "source": [
    "print('%',round((df_final[df_final['trial_started'].notna()]\\\n",
    "                 .shape[0]/df_final[df_final['app_install'].notna()]\\\n",
    "                 .shape[0])*100,2),\"of app_installer start Trial\")"
   ]
  },
  {
   "cell_type": "code",
   "execution_count": 65,
   "id": "a7a46c3c",
   "metadata": {},
   "outputs": [
    {
     "name": "stdout",
     "output_type": "stream",
     "text": [
      "% 70.38 of who used Trial start subscription\n"
     ]
    }
   ],
   "source": [
    "print('%',round((df_final[df_final['subscription_started'].notna()]\\\n",
    "                 .shape[0]/df_final[df_final['trial_started'].notna()]\\\n",
    "                 .shape[0])*100,2),\"of who used Trial start subscription\")"
   ]
  },
  {
   "cell_type": "code",
   "execution_count": 66,
   "id": "19162698",
   "metadata": {},
   "outputs": [
    {
     "name": "stdout",
     "output_type": "stream",
     "text": [
      "% 47.9 of app_installer start subscription\n"
     ]
    }
   ],
   "source": [
    "print('%',round((df_final[df_final['subscription_started'].notna()]\\\n",
    "                 .shape[0]/df_final.shape[0])*100,2),\"of app_installer start subscription\")"
   ]
  },
  {
   "cell_type": "code",
   "execution_count": null,
   "id": "60466d45",
   "metadata": {},
   "outputs": [],
   "source": []
  },
  {
   "cell_type": "markdown",
   "id": "d1b6e0c1",
   "metadata": {},
   "source": [
    "## Further Feature Engineering "
   ]
  },
  {
   "cell_type": "code",
   "execution_count": 67,
   "id": "7f0246e6",
   "metadata": {},
   "outputs": [],
   "source": [
    "#Create a column define the record has ever started subscrition\n",
    "\n",
    "\n",
    "df_final['Ever_Subscripted'] = pd.Series([0 if pd.isnull(i) else 1 \\\n",
    "                                          for i in df_final['subscription_started']])"
   ]
  },
  {
   "cell_type": "code",
   "execution_count": null,
   "id": "3098424f",
   "metadata": {},
   "outputs": [],
   "source": []
  },
  {
   "cell_type": "code",
   "execution_count": 68,
   "id": "f5df9400",
   "metadata": {},
   "outputs": [],
   "source": [
    "#At some case subscription has started less than 1 month.\n",
    "#This column solve problem if sebscription_renewed has 0\n",
    "\n",
    "#df_final[(df_final['trial_cancelled'].notnull())&(df_final['subscription_started'].notnull())]\n",
    "#Bu kod trial cancel olmadan subscription started olan var mi ona bakiyor. Boyle bir durum yok\n",
    "\n",
    "#df_final[(df_final['trial_started'].isnull())&(df_final['subscription_started'].notnull())]\n",
    "#Bu kod ise trial olmadan dogrudan subscript var mi onu cek ediyor. Boyle bir durum da yok\n",
    "\n",
    "#Bu check kodlari is_still sutunu olusturmak icin lazim\n",
    "\n",
    "df_final['Still_Subscripted'] = pd.Series([1 if pd.notnull(i)==True and pd.isnull(k)==True\\\n",
    "                                           else 0 for i,k in\\\n",
    "                                           zip(df_final['subscription_started'],df_final['subscription_cancelled'])\n",
    "  ])"
   ]
  },
  {
   "cell_type": "code",
   "execution_count": null,
   "id": "18b1a74f",
   "metadata": {},
   "outputs": [],
   "source": []
  },
  {
   "cell_type": "code",
   "execution_count": null,
   "id": "f5542345",
   "metadata": {},
   "outputs": [],
   "source": []
  },
  {
   "cell_type": "code",
   "execution_count": null,
   "id": "03f7f398",
   "metadata": {},
   "outputs": [],
   "source": []
  },
  {
   "cell_type": "code",
   "execution_count": null,
   "id": "6366e98a",
   "metadata": {},
   "outputs": [],
   "source": []
  },
  {
   "cell_type": "code",
   "execution_count": 69,
   "id": "b62fca0f",
   "metadata": {},
   "outputs": [
    {
     "name": "stdout",
     "output_type": "stream",
     "text": [
      "% 68.06 of app_installer start Trial\n"
     ]
    }
   ],
   "source": [
    "print('%',round((df_final[df_final['trial_started'].notna()]\\\n",
    "                 .shape[0]/df_final[df_final['app_install'].notna()]\\\n",
    "                 .shape[0])*100,2),\"of app_installer start Trial\")"
   ]
  },
  {
   "cell_type": "code",
   "execution_count": 70,
   "id": "4adfd431",
   "metadata": {},
   "outputs": [
    {
     "name": "stdout",
     "output_type": "stream",
     "text": [
      "% 70.38 of who used Trial start subscription\n"
     ]
    }
   ],
   "source": [
    "print('%',round((df_final[df_final['subscription_started'].notna()]\\\n",
    "                 .shape[0]/df_final[df_final['trial_started'].notna()]\\\n",
    "                 .shape[0])*100,2),\"of who used Trial start subscription\")"
   ]
  },
  {
   "cell_type": "code",
   "execution_count": 71,
   "id": "0f40c2b8",
   "metadata": {},
   "outputs": [
    {
     "name": "stdout",
     "output_type": "stream",
     "text": [
      "% 47.9 of app_installer start subscription\n"
     ]
    }
   ],
   "source": [
    "print('%',round((df_final[df_final['subscription_started'].notna()]\\\n",
    "                 .shape[0]/df_final.shape[0])*100,2),\"of app_installer start subscription\")"
   ]
  },
  {
   "cell_type": "code",
   "execution_count": 72,
   "id": "f1ab5591",
   "metadata": {},
   "outputs": [
    {
     "data": {
      "text/plain": [
       "attribution_source\n",
       "instagram    4.839869\n",
       "organic      4.627907\n",
       "tiktok       4.784091\n",
       "Name: Duration_trial, dtype: float64"
      ]
     },
     "execution_count": 72,
     "metadata": {},
     "output_type": "execute_result"
    }
   ],
   "source": [
    "#Average Trial Duration\n",
    "\n",
    "df_final.groupby('attribution_source')['Duration_trial'].mean()"
   ]
  },
  {
   "cell_type": "code",
   "execution_count": 73,
   "id": "13f43e84",
   "metadata": {},
   "outputs": [
    {
     "data": {
      "text/plain": [
       "attribution_source\n",
       "instagram    43.807190\n",
       "organic      50.139535\n",
       "tiktok       53.173295\n",
       "Name: Duration_subscription, dtype: float64"
      ]
     },
     "execution_count": 73,
     "metadata": {},
     "output_type": "execute_result"
    }
   ],
   "source": [
    "# Average subscription duration\n",
    "\n",
    "df_final.groupby('attribution_source')['Duration_subscription'].mean()"
   ]
  },
  {
   "cell_type": "code",
   "execution_count": null,
   "id": "6ca2532e",
   "metadata": {},
   "outputs": [],
   "source": []
  },
  {
   "cell_type": "code",
   "execution_count": 74,
   "id": "3fbdb41f",
   "metadata": {},
   "outputs": [
    {
     "data": {
      "text/html": [
       "<div>\n",
       "<style scoped>\n",
       "    .dataframe tbody tr th:only-of-type {\n",
       "        vertical-align: middle;\n",
       "    }\n",
       "\n",
       "    .dataframe tbody tr th {\n",
       "        vertical-align: top;\n",
       "    }\n",
       "\n",
       "    .dataframe thead th {\n",
       "        text-align: right;\n",
       "    }\n",
       "</style>\n",
       "<table border=\"1\" class=\"dataframe\">\n",
       "  <thead>\n",
       "    <tr style=\"text-align: right;\">\n",
       "      <th></th>\n",
       "      <th>attribution_source</th>\n",
       "      <th>Still_Subscripted</th>\n",
       "      <th>mean value of Duration_subscription</th>\n",
       "    </tr>\n",
       "  </thead>\n",
       "  <tbody>\n",
       "    <tr>\n",
       "      <th>0</th>\n",
       "      <td>instagram</td>\n",
       "      <td>0</td>\n",
       "      <td>28.438735</td>\n",
       "    </tr>\n",
       "    <tr>\n",
       "      <th>1</th>\n",
       "      <td>instagram</td>\n",
       "      <td>1</td>\n",
       "      <td>117.169811</td>\n",
       "    </tr>\n",
       "    <tr>\n",
       "      <th>2</th>\n",
       "      <td>organic</td>\n",
       "      <td>0</td>\n",
       "      <td>29.161404</td>\n",
       "    </tr>\n",
       "    <tr>\n",
       "      <th>3</th>\n",
       "      <td>organic</td>\n",
       "      <td>1</td>\n",
       "      <td>151.474576</td>\n",
       "    </tr>\n",
       "    <tr>\n",
       "      <th>4</th>\n",
       "      <td>tiktok</td>\n",
       "      <td>0</td>\n",
       "      <td>25.085324</td>\n",
       "    </tr>\n",
       "    <tr>\n",
       "      <th>5</th>\n",
       "      <td>tiktok</td>\n",
       "      <td>1</td>\n",
       "      <td>192.661017</td>\n",
       "    </tr>\n",
       "  </tbody>\n",
       "</table>\n",
       "</div>"
      ],
      "text/plain": [
       "  attribution_source  Still_Subscripted  mean value of Duration_subscription\n",
       "0          instagram                  0                            28.438735\n",
       "1          instagram                  1                           117.169811\n",
       "2            organic                  0                            29.161404\n",
       "3            organic                  1                           151.474576\n",
       "4             tiktok                  0                            25.085324\n",
       "5             tiktok                  1                           192.661017"
      ]
     },
     "execution_count": 74,
     "metadata": {},
     "output_type": "execute_result"
    }
   ],
   "source": [
    "#Users still subscripted are long time user\n",
    "#Users who cancelled subscription do it about end of the month of in average\n",
    "\n",
    "\n",
    "df_final.groupby(['attribution_source','Still_Subscripted'])['Duration_subscription'].mean()\\\n",
    ".reset_index(name='mean value of Duration_subscription')"
   ]
  },
  {
   "cell_type": "code",
   "execution_count": 75,
   "id": "126fa811",
   "metadata": {},
   "outputs": [
    {
     "data": {
      "text/plain": [
       "attribution_source  Still_Subscripted\n",
       "instagram           0                    253\n",
       "                    1                     53\n",
       "organic             0                    285\n",
       "                    1                     59\n",
       "tiktok              0                    293\n",
       "                    1                     59\n",
       "Name: Duration_subscription, dtype: int64"
      ]
     },
     "execution_count": 75,
     "metadata": {},
     "output_type": "execute_result"
    }
   ],
   "source": [
    "#Still subscription have a rate  1-of-6 to of Total subscription\n",
    "\n",
    "df_final.groupby(['attribution_source','Still_Subscripted'])['Duration_subscription'].count()"
   ]
  },
  {
   "cell_type": "code",
   "execution_count": 76,
   "id": "cf39f46c",
   "metadata": {},
   "outputs": [
    {
     "data": {
      "text/plain": [
       "attribution_source  Ever_Subscripted  Still_Subscripted\n",
       "instagram           0                 0                    157\n",
       "                    1                 0                     96\n",
       "                                      1                     53\n",
       "organic             0                 0                    175\n",
       "                    1                 0                    110\n",
       "                                      1                     59\n",
       "tiktok              0                 0                    190\n",
       "                    1                 0                    103\n",
       "                                      1                     59\n",
       "Name: Duration_subscription, dtype: int64"
      ]
     },
     "execution_count": 76,
     "metadata": {},
     "output_type": "execute_result"
    }
   ],
   "source": [
    "#Still subscripted user are longterm users\n",
    "#And, the rate 1 of 3 of Ever_subscripted are still subscripted and as result they are longterm depending on former analysis\n",
    "\n",
    "df_final.groupby(['attribution_source','Ever_Subscripted','Still_Subscripted'])['Duration_subscription'].count()"
   ]
  },
  {
   "cell_type": "code",
   "execution_count": 77,
   "id": "c5ba5344",
   "metadata": {},
   "outputs": [
    {
     "data": {
      "text/plain": [
       "Ever_Subscripted\n",
       "0    2.695402\n",
       "1    6.979167\n",
       "Name: Duration_trial, dtype: float64"
      ]
     },
     "execution_count": 77,
     "metadata": {},
     "output_type": "execute_result"
    }
   ],
   "source": [
    "#The more trial duration The more subscriprion\n",
    "\n",
    "df_final.groupby('Ever_Subscripted')['Duration_trial'].mean()"
   ]
  },
  {
   "cell_type": "code",
   "execution_count": 78,
   "id": "1bc27bf1",
   "metadata": {},
   "outputs": [
    {
     "data": {
      "text/plain": [
       "attribution_source\n",
       "instagram    149\n",
       "organic      169\n",
       "tiktok       162\n",
       "Name: Ever_Subscripted, dtype: int64"
      ]
     },
     "execution_count": 78,
     "metadata": {},
     "output_type": "execute_result"
    }
   ],
   "source": [
    "#Distribution of Ever Subscription started based on attribution source\n",
    "\n",
    "df_final[df_final['Ever_Subscripted']==1].groupby('attribution_source')['Ever_Subscripted'].count()"
   ]
  },
  {
   "cell_type": "code",
   "execution_count": 79,
   "id": "b77e94fd",
   "metadata": {},
   "outputs": [
    {
     "data": {
      "text/plain": [
       "attribution_source\n",
       "instagram    53\n",
       "organic      59\n",
       "tiktok       59\n",
       "Name: Still_Subscripted, dtype: int64"
      ]
     },
     "execution_count": 79,
     "metadata": {},
     "output_type": "execute_result"
    }
   ],
   "source": [
    "#Distribution of Still Subscription started based on attribution source\n",
    "\n",
    "df_final[df_final['Still_Subscripted']==1].groupby('attribution_source')['Still_Subscripted'].count()"
   ]
  },
  {
   "cell_type": "code",
   "execution_count": null,
   "id": "acafe6b1",
   "metadata": {},
   "outputs": [],
   "source": []
  },
  {
   "cell_type": "code",
   "execution_count": 80,
   "id": "094506ed",
   "metadata": {},
   "outputs": [
    {
     "data": {
      "image/png": "[encoded data removed]",
      "text/plain": [
       "<Figure size 800x600 with 1 Axes>"
      ]
     },
     "metadata": {},
     "output_type": "display_data"
    }
   ],
   "source": [
    "plt.figure(figsize=(8, 6))\n",
    "ax2 = sns.countplot(data=df_final, x='attribution_source', hue='Still_Subscripted')\n",
    "\n",
    "# Add labels for each set of bars separately\n",
    "for container in ax2.containers:\n",
    "    ax2.bar_label(container, fmt='%d', label_type='edge', padding=3)\n",
    "\n",
    "plt.xticks(rotation=45)  # Rotate x-axis labels if needed\n",
    "plt.title(\"Count of Attribution Source by Subscription Status\")\n",
    "plt.legend(title=\"Still Subscripted\",loc ='upper right',bbox_to_anchor=(1.25, 1))\n",
    "plt.show()"
   ]
  },
  {
   "cell_type": "code",
   "execution_count": null,
   "id": "b3e79a09",
   "metadata": {},
   "outputs": [],
   "source": []
  }
 ],
 "metadata": {
  "kernelspec": {
   "display_name": "Python 3 (ipykernel)",
   "language": "python",
   "name": "python3"
  },
  "language_info": {
   "codemirror_mode": {
    "name": "ipython",
    "version": 3
   },
   "file_extension": ".py",
   "mimetype": "text/x-python",
   "name": "python",
   "nbconvert_exporter": "python",
   "pygments_lexer": "ipython3",
   "version": "3.9.13"
  },
  "toc": {
   "base_numbering": 1,
   "nav_menu": {},
   "number_sections": true,
   "sideBar": true,
   "skip_h1_title": false,
   "title_cell": "Table of Contents",
   "title_sidebar": "Contents",
   "toc_cell": false,
   "toc_position": {},
   "toc_section_display": true,
   "toc_window_display": false
  }
 },
 "nbformat": 4,
 "nbformat_minor": 5
}
